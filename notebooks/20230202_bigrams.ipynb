{
 "cells": [
  {
   "cell_type": "code",
   "execution_count": 2,
   "metadata": {},
   "outputs": [],
   "source": [
    "import subprocess\n",
    "import gzip\n",
    "import json\n",
    "import pandas as pd\n",
    "import os\n",
    "import pickle as pkl\n",
    "import nltk\n",
    "from nltk.corpus import stopwords\n",
    "from collections import Counter \n",
    "import matplotlib.pyplot as plt\n",
    "import re\n",
    "from itertools import islice\n",
    "import numpy as np\n",
    "import matplotlib.patches as mpatches"
   ]
  },
  {
   "cell_type": "code",
   "execution_count": null,
   "metadata": {},
   "outputs": [],
   "source": [
    "gb = {}\n",
    "for i in range(0,1024):\n",
    "    if i%100 == 0:\n",
    "        print(i)\n",
    "    label = str(i).zfill(5)\n",
    "    jsonfilename = f'/data2/sg/racball/c4/en/c4-train.{label}-of-01024.json.gz'\n",
    "\n",
    "    with gzip.open(jsonfilename, 'r') as fin:\n",
    "        data = [json.loads(line)['text'] for line in fin]\n",
    "\n",
    "    counts = []\n",
    "    for k,sentence in enumerate(data): \n",
    "        words = re.findall(\"\\w+\", sentence)\n",
    "        local_dict = dict(Counter(zip(words, islice(words, 1, None))))\n",
    "\n",
    "        count = [local_dict[i] for i in local_dict.keys() if \"Entails\" in i[0] or \"Entails\" in i[1]]\n",
    "        for i in local_dict.keys():\n",
    "            if \"Entails\" in i[0] or \"Entails\" in i[1]:\n",
    "                if i in gb:\n",
    "                    gb[i] += sum(count)\n",
    "                else:\n",
    "                    gb[i] = sum(count)"
   ]
  },
  {
   "attachments": {},
   "cell_type": "markdown",
   "metadata": {},
   "source": [
    "# Favor vs Against"
   ]
  },
  {
   "cell_type": "code",
   "execution_count": 3,
   "metadata": {},
   "outputs": [
    {
     "data": {
      "text/plain": [
       "(637599, 83020, 7.680065044567574)"
      ]
     },
     "execution_count": 3,
     "metadata": {},
     "output_type": "execute_result"
    }
   ],
   "source": [
    "with open (f\"../scripts/bigrams_against_1000.pkl\", \"rb\") as f:\n",
    "    a = pkl.load(f)\n",
    "with open (f\"../scripts/bigrams_favor_1000.pkl\", \"rb\") as f:\n",
    "    b = pkl.load(f)\n",
    "\n",
    "len(a), len(b), len(a)/len(b)"
   ]
  },
  {
   "cell_type": "code",
   "execution_count": 3,
   "metadata": {},
   "outputs": [
    {
     "name": "stdout",
     "output_type": "stream",
     "text": [
      "true\n",
      "false\n",
      "positive\n",
      "negative\n",
      "favor\n",
      "against\n",
      "entails\n",
      "contradicts\n",
      "True\n",
      "False\n",
      "Positive\n",
      "Negative\n",
      "Favor\n",
      "Against\n",
      "Entails\n",
      "Contradicts\n"
     ]
    }
   ],
   "source": [
    "bi = {}\n",
    "uni = {}\n",
    "\n",
    "for target in [\"true\",\"false\",\"positive\",\"negative\",\"favor\",\"against\",\"entails\",\"contradicts\",\n",
    "               \"True\",\"False\",\"Positive\",\"Negative\",\"Favor\",\"Against\",\"Entails\",\"Contradicts\"]:\n",
    "    print(target)\n",
    "    global_bigrams = {}\n",
    "    for start in range(0,1050,50):\n",
    "        finish = start + 50\n",
    "        with open(f\"../data/bigrams/bigrams_{start}_{finish}--{target}.pkl\",\"rb\") as f:\n",
    "            local_bigrams = pkl.load(f)\n",
    "        for k in local_bigrams.keys():\n",
    "            if k in global_bigrams.keys():\n",
    "                global_bigrams[k] = global_bigrams[k] + local_bigrams[k]\n",
    "            else:\n",
    "                global_bigrams[k] = local_bigrams[k]\n",
    "\n",
    "    bi[target] = len(global_bigrams)\n",
    "    uni[target] = sum(global_bigrams.values())"
   ]
  },
  {
   "cell_type": "code",
   "execution_count": 2,
   "metadata": {},
   "outputs": [],
   "source": [
    "df = pd.DataFrame()\n",
    "for file in os.listdir(\"../data/\"):\n",
    "    if \"chunk\" in file:\n",
    "        df_temp = pd.read_parquet(f\"../data/{file}\")\n",
    "        df = pd.concat([df,df_temp],ignore_index=True)\n",
    "# df.to_parquet(\"../data/verbatim_preprocessed_tweets_taskA.parquet\")"
   ]
  },
  {
   "cell_type": "code",
   "execution_count": 3,
   "metadata": {},
   "outputs": [
    {
     "data": {
      "text/html": [
       "<div>\n",
       "<style scoped>\n",
       "    .dataframe tbody tr th:only-of-type {\n",
       "        vertical-align: middle;\n",
       "    }\n",
       "\n",
       "    .dataframe tbody tr th {\n",
       "        vertical-align: top;\n",
       "    }\n",
       "\n",
       "    .dataframe thead th {\n",
       "        text-align: right;\n",
       "    }\n",
       "</style>\n",
       "<table border=\"1\" class=\"dataframe\">\n",
       "  <thead>\n",
       "    <tr style=\"text-align: right;\">\n",
       "      <th></th>\n",
       "      <th>id</th>\n",
       "      <th>true</th>\n",
       "      <th>false</th>\n",
       "      <th>positive</th>\n",
       "      <th>negative</th>\n",
       "      <th>favor</th>\n",
       "      <th>against</th>\n",
       "      <th>entails</th>\n",
       "      <th>contradicts</th>\n",
       "      <th>True</th>\n",
       "      <th>False</th>\n",
       "      <th>Positive</th>\n",
       "      <th>Negative</th>\n",
       "      <th>Favor</th>\n",
       "      <th>Against</th>\n",
       "      <th>Entails</th>\n",
       "      <th>Contradicts</th>\n",
       "    </tr>\n",
       "  </thead>\n",
       "  <tbody>\n",
       "    <tr>\n",
       "      <th>0</th>\n",
       "      <td>250</td>\n",
       "      <td>14989</td>\n",
       "      <td>2972</td>\n",
       "      <td>12712</td>\n",
       "      <td>6643</td>\n",
       "      <td>12712</td>\n",
       "      <td>6643</td>\n",
       "      <td>450</td>\n",
       "      <td>130</td>\n",
       "      <td>1605</td>\n",
       "      <td>310</td>\n",
       "      <td>570</td>\n",
       "      <td>282</td>\n",
       "      <td>36</td>\n",
       "      <td>972</td>\n",
       "      <td>0</td>\n",
       "      <td>0</td>\n",
       "    </tr>\n",
       "    <tr>\n",
       "      <th>1</th>\n",
       "      <td>251</td>\n",
       "      <td>14968</td>\n",
       "      <td>2848</td>\n",
       "      <td>12678</td>\n",
       "      <td>6775</td>\n",
       "      <td>12678</td>\n",
       "      <td>6775</td>\n",
       "      <td>423</td>\n",
       "      <td>132</td>\n",
       "      <td>1590</td>\n",
       "      <td>336</td>\n",
       "      <td>546</td>\n",
       "      <td>291</td>\n",
       "      <td>52</td>\n",
       "      <td>947</td>\n",
       "      <td>0</td>\n",
       "      <td>0</td>\n",
       "    </tr>\n",
       "    <tr>\n",
       "      <th>2</th>\n",
       "      <td>252</td>\n",
       "      <td>15212</td>\n",
       "      <td>2847</td>\n",
       "      <td>12982</td>\n",
       "      <td>7162</td>\n",
       "      <td>12982</td>\n",
       "      <td>7162</td>\n",
       "      <td>426</td>\n",
       "      <td>144</td>\n",
       "      <td>1558</td>\n",
       "      <td>289</td>\n",
       "      <td>625</td>\n",
       "      <td>311</td>\n",
       "      <td>62</td>\n",
       "      <td>974</td>\n",
       "      <td>2</td>\n",
       "      <td>0</td>\n",
       "    </tr>\n",
       "    <tr>\n",
       "      <th>3</th>\n",
       "      <td>253</td>\n",
       "      <td>15036</td>\n",
       "      <td>2743</td>\n",
       "      <td>12709</td>\n",
       "      <td>6880</td>\n",
       "      <td>12709</td>\n",
       "      <td>6880</td>\n",
       "      <td>408</td>\n",
       "      <td>136</td>\n",
       "      <td>1381</td>\n",
       "      <td>259</td>\n",
       "      <td>585</td>\n",
       "      <td>260</td>\n",
       "      <td>44</td>\n",
       "      <td>938</td>\n",
       "      <td>0</td>\n",
       "      <td>1</td>\n",
       "    </tr>\n",
       "    <tr>\n",
       "      <th>4</th>\n",
       "      <td>254</td>\n",
       "      <td>15344</td>\n",
       "      <td>2888</td>\n",
       "      <td>12758</td>\n",
       "      <td>6878</td>\n",
       "      <td>12758</td>\n",
       "      <td>6878</td>\n",
       "      <td>439</td>\n",
       "      <td>117</td>\n",
       "      <td>1593</td>\n",
       "      <td>324</td>\n",
       "      <td>1018</td>\n",
       "      <td>259</td>\n",
       "      <td>65</td>\n",
       "      <td>929</td>\n",
       "      <td>1</td>\n",
       "      <td>0</td>\n",
       "    </tr>\n",
       "    <tr>\n",
       "      <th>...</th>\n",
       "      <td>...</td>\n",
       "      <td>...</td>\n",
       "      <td>...</td>\n",
       "      <td>...</td>\n",
       "      <td>...</td>\n",
       "      <td>...</td>\n",
       "      <td>...</td>\n",
       "      <td>...</td>\n",
       "      <td>...</td>\n",
       "      <td>...</td>\n",
       "      <td>...</td>\n",
       "      <td>...</td>\n",
       "      <td>...</td>\n",
       "      <td>...</td>\n",
       "      <td>...</td>\n",
       "      <td>...</td>\n",
       "      <td>...</td>\n",
       "    </tr>\n",
       "    <tr>\n",
       "      <th>1019</th>\n",
       "      <td>945</td>\n",
       "      <td>14880</td>\n",
       "      <td>2868</td>\n",
       "      <td>12805</td>\n",
       "      <td>6654</td>\n",
       "      <td>12805</td>\n",
       "      <td>6654</td>\n",
       "      <td>505</td>\n",
       "      <td>119</td>\n",
       "      <td>1595</td>\n",
       "      <td>290</td>\n",
       "      <td>570</td>\n",
       "      <td>276</td>\n",
       "      <td>46</td>\n",
       "      <td>946</td>\n",
       "      <td>0</td>\n",
       "      <td>0</td>\n",
       "    </tr>\n",
       "    <tr>\n",
       "      <th>1020</th>\n",
       "      <td>946</td>\n",
       "      <td>15202</td>\n",
       "      <td>2816</td>\n",
       "      <td>13130</td>\n",
       "      <td>6684</td>\n",
       "      <td>13130</td>\n",
       "      <td>6684</td>\n",
       "      <td>431</td>\n",
       "      <td>120</td>\n",
       "      <td>1453</td>\n",
       "      <td>285</td>\n",
       "      <td>620</td>\n",
       "      <td>261</td>\n",
       "      <td>46</td>\n",
       "      <td>894</td>\n",
       "      <td>2</td>\n",
       "      <td>1</td>\n",
       "    </tr>\n",
       "    <tr>\n",
       "      <th>1021</th>\n",
       "      <td>947</td>\n",
       "      <td>15204</td>\n",
       "      <td>3004</td>\n",
       "      <td>12953</td>\n",
       "      <td>7013</td>\n",
       "      <td>12953</td>\n",
       "      <td>7013</td>\n",
       "      <td>442</td>\n",
       "      <td>108</td>\n",
       "      <td>1774</td>\n",
       "      <td>319</td>\n",
       "      <td>496</td>\n",
       "      <td>309</td>\n",
       "      <td>49</td>\n",
       "      <td>1002</td>\n",
       "      <td>1</td>\n",
       "      <td>1</td>\n",
       "    </tr>\n",
       "    <tr>\n",
       "      <th>1022</th>\n",
       "      <td>948</td>\n",
       "      <td>15111</td>\n",
       "      <td>2868</td>\n",
       "      <td>12744</td>\n",
       "      <td>6904</td>\n",
       "      <td>12744</td>\n",
       "      <td>6904</td>\n",
       "      <td>444</td>\n",
       "      <td>114</td>\n",
       "      <td>1509</td>\n",
       "      <td>356</td>\n",
       "      <td>490</td>\n",
       "      <td>294</td>\n",
       "      <td>32</td>\n",
       "      <td>889</td>\n",
       "      <td>3</td>\n",
       "      <td>1</td>\n",
       "    </tr>\n",
       "    <tr>\n",
       "      <th>1023</th>\n",
       "      <td>949</td>\n",
       "      <td>14969</td>\n",
       "      <td>2768</td>\n",
       "      <td>13035</td>\n",
       "      <td>6891</td>\n",
       "      <td>13035</td>\n",
       "      <td>6891</td>\n",
       "      <td>401</td>\n",
       "      <td>139</td>\n",
       "      <td>1573</td>\n",
       "      <td>296</td>\n",
       "      <td>569</td>\n",
       "      <td>278</td>\n",
       "      <td>56</td>\n",
       "      <td>913</td>\n",
       "      <td>2</td>\n",
       "      <td>0</td>\n",
       "    </tr>\n",
       "  </tbody>\n",
       "</table>\n",
       "<p>1024 rows × 17 columns</p>\n",
       "</div>"
      ],
      "text/plain": [
       "       id   true  false  positive  negative  favor  against  entails  \\\n",
       "0     250  14989   2972     12712      6643  12712     6643      450   \n",
       "1     251  14968   2848     12678      6775  12678     6775      423   \n",
       "2     252  15212   2847     12982      7162  12982     7162      426   \n",
       "3     253  15036   2743     12709      6880  12709     6880      408   \n",
       "4     254  15344   2888     12758      6878  12758     6878      439   \n",
       "...   ...    ...    ...       ...       ...    ...      ...      ...   \n",
       "1019  945  14880   2868     12805      6654  12805     6654      505   \n",
       "1020  946  15202   2816     13130      6684  13130     6684      431   \n",
       "1021  947  15204   3004     12953      7013  12953     7013      442   \n",
       "1022  948  15111   2868     12744      6904  12744     6904      444   \n",
       "1023  949  14969   2768     13035      6891  13035     6891      401   \n",
       "\n",
       "      contradicts  True  False  Positive  Negative  Favor  Against  Entails  \\\n",
       "0             130  1605    310       570       282     36      972        0   \n",
       "1             132  1590    336       546       291     52      947        0   \n",
       "2             144  1558    289       625       311     62      974        2   \n",
       "3             136  1381    259       585       260     44      938        0   \n",
       "4             117  1593    324      1018       259     65      929        1   \n",
       "...           ...   ...    ...       ...       ...    ...      ...      ...   \n",
       "1019          119  1595    290       570       276     46      946        0   \n",
       "1020          120  1453    285       620       261     46      894        2   \n",
       "1021          108  1774    319       496       309     49     1002        1   \n",
       "1022          114  1509    356       490       294     32      889        3   \n",
       "1023          139  1573    296       569       278     56      913        2   \n",
       "\n",
       "      Contradicts  \n",
       "0               0  \n",
       "1               0  \n",
       "2               0  \n",
       "3               1  \n",
       "4               0  \n",
       "...           ...  \n",
       "1019            0  \n",
       "1020            1  \n",
       "1021            1  \n",
       "1022            1  \n",
       "1023            0  \n",
       "\n",
       "[1024 rows x 17 columns]"
      ]
     },
     "execution_count": 3,
     "metadata": {},
     "output_type": "execute_result"
    }
   ],
   "source": [
    "df"
   ]
  },
  {
   "cell_type": "code",
   "execution_count": 4,
   "metadata": {},
   "outputs": [],
   "source": [
    "d = dict(df.drop('id',axis=1).sum())"
   ]
  },
  {
   "cell_type": "code",
   "execution_count": 30,
   "metadata": {},
   "outputs": [
    {
     "data": {
      "text/plain": [
       "15490254"
      ]
     },
     "execution_count": 30,
     "metadata": {},
     "output_type": "execute_result"
    }
   ],
   "source": [
    "d['true']"
   ]
  },
  {
   "cell_type": "code",
   "execution_count": 29,
   "metadata": {},
   "outputs": [
    {
     "data": {
      "text/plain": [
       "146902889"
      ]
     },
     "execution_count": 29,
     "metadata": {},
     "output_type": "execute_result"
    }
   ],
   "source": [
    "sum(global_bigrams.values()) "
   ]
  },
  {
   "cell_type": "code",
   "execution_count": 11,
   "metadata": {},
   "outputs": [
    {
     "name": "stderr",
     "output_type": "stream",
     "text": [
      "No handles with labels found to put in legend.\n"
     ]
    },
    {
     "data": {
      "text/plain": [
       "<matplotlib.legend.Legend at 0x7f44c4226b90>"
      ]
     },
     "execution_count": 11,
     "metadata": {},
     "output_type": "execute_result"
    },
    {
     "data": {
      "image/png": "[encoded data removed]",
      "text/plain": [
       "<Figure size 1080x360 with 1 Axes>"
      ]
     },
     "metadata": {
      "needs_background": "light"
     },
     "output_type": "display_data"
    }
   ],
   "source": [
    "x = ['true','false','positive','negative','favor','against','entails','contradicts',\n",
    "     'True','False','Positive','Negative','Favor','Against','Entails','Contradicts'\n",
    "    ]\n",
    "plt.bar(x,[uni[i] for i in x],color = ['#ff7f0e', '#1f77b4', '#ff7f0e', '#1f77b4', '#ff7f0e', '#1f77b4', '#ff7f0e','#1f77b4','#ff7f0e','#1f77b4','#ff7f0e','#1f77b4','#ff7f0e','#1f77b4','#ff7f0e','#1f77b4'],alpha=0.2)\n",
    "plt.bar(x,[bi[i] for i in x],color = ['#ff7f0e', '#1f77b4', '#ff7f0e', '#1f77b4', '#ff7f0e', '#1f77b4', '#ff7f0e','#1f77b4','#ff7f0e','#1f77b4','#ff7f0e','#1f77b4','#ff7f0e','#1f77b4','#ff7f0e','#1f77b4'])\n",
    "\n",
    "plt.yscale('log')\n",
    "plt.ylim(10,10**9)\n",
    "plt.ylabel('count',fontsize=20)\n",
    "plt.xlabel('token',fontsize=20)\n",
    "_ = plt.xticks(rotation = 45,fontsize=15)\n",
    "_ = plt.yticks(fontsize=15)\n",
    "# plt.title(\"unique_bigram_counts\",fontsize=15)\n",
    "plt.rcParams['figure.figsize'] = (15,5)\n",
    "plt.legend(prop={'size':15})\n",
    "plt.title(\"training data\",size = 20)\n",
    "\n",
    "P = mpatches.Patch(color='#ff7f0e', label='positive connotation')\n",
    "N = mpatches.Patch(color='#1f77b4', label='negative connotation')\n",
    "plt.legend(handles=[P,N], loc='upper right',prop={'size':15})"
   ]
  },
  {
   "cell_type": "code",
   "execution_count": 52,
   "metadata": {},
   "outputs": [
    {
     "data": {
      "text/plain": [
       "<matplotlib.legend.Legend at 0x7ff52353bf50>"
      ]
     },
     "execution_count": 52,
     "metadata": {},
     "output_type": "execute_result"
    },
    {
     "data": {
      "image/png": "[encoded data removed]",
      "text/plain": [
       "<Figure size 1080x360 with 1 Axes>"
      ]
     },
     "metadata": {
      "needs_background": "light"
     },
     "output_type": "display_data"
    }
   ],
   "source": [
    "\n",
    "# plt.yscale('log')\n",
    "# plt.ylabel('count',fontsize=20)\n",
    "# plt.xlabel('token',fontsize=20)\n",
    "# _ = plt.xticks(rotation = 45,fontsize=15)\n",
    "# _ = plt.yticks(fontsize=15)\n",
    "# plt.title(\"unique_bigram_counts\",fontsize=15)\n",
    "# plt.rcParams['figure.figsize'] = (15,5)\n",
    "\n",
    "d = dict(df.drop('id',axis=1).sum())\n",
    "\n",
    "plt.bar(['true','false','positive','negative','favor','against','entails','contradicts'],\n",
    "[d['true'] + d['True'],\n",
    "d['false'] + d['false'],\n",
    "d['positive'] + d['Positive'],\n",
    "d['negative'] + d['Negative'],\n",
    "d['favor'] + d['Favor'],\n",
    "d['against'] + d['Against'],\n",
    "d['entails'] + d['Entails'],\n",
    "d['contradicts'] + d['Contradicts']],label='unigrams')\n",
    "plt.bar(hist.keys(),hist.values(),label='unique bigrams')\n",
    "\n",
    "plt.yscale('log')\n",
    "plt.ylabel('count',fontsize=20)\n",
    "plt.xlabel('token',fontsize=20)\n",
    "_ = plt.xticks(rotation = 45,fontsize=15)\n",
    "_ = plt.yticks(fontsize=15)\n",
    "# plt.title(\"unique_bigram_counts\",fontsize=15)\n",
    "plt.rcParams['figure.figsize'] = (15,5)\n",
    "plt.legend(prop={'size':15})\n"
   ]
  },
  {
   "attachments": {},
   "cell_type": "markdown",
   "metadata": {},
   "source": [
    "# debugging"
   ]
  },
  {
   "cell_type": "code",
   "execution_count": 2,
   "metadata": {},
   "outputs": [
    {
     "name": "stdout",
     "output_type": "stream",
     "text": [
      "chunk 0 1\n",
      "00000\n"
     ]
    }
   ],
   "source": [
    "df_out = pd.DataFrame()\n",
    "ids = []\n",
    "true,false = [],[]\n",
    "favor,against = [],[]\n",
    "positive,negative = [],[]\n",
    "entails,contradicts = [], []\n",
    "\n",
    "Trues,Falses = [],[]\n",
    "Favor,Against = [],[]\n",
    "Positive,Negative = [],[]\n",
    "Entails,Contradicts = [], []\n",
    "\n",
    "start = 0\n",
    "finish = 1\n",
    "print(\"chunk\", start,finish)\n",
    "for i in range(start,finish):\n",
    "    try:\n",
    "        ids.append(i)\n",
    "        label = str(i).zfill(5)\n",
    "        print(label)\n",
    "        jsonfilename = f'/data2/sg/racball/c4/en/c4-train.{label}-of-01024.json.gz'\n",
    "        with gzip.open(jsonfilename, 'r') as fin:\n",
    "            data = [json.loads(line)['text'] for line in fin]\n",
    "\n",
    "        data_ = [i.split() for i in data]\n",
    "        data_ = [item for sublist in data_ for item in sublist]\n",
    "\n",
    "        d = Counter(data_)\n",
    "\n",
    "        true.append(d[\"true\"])\n",
    "        false.append(d[\"false\"])\n",
    "        positive.append(d[\"positive\"])\n",
    "        negative.append(d[\"negative\"])\n",
    "        favor.append(d[\"positive\"])\n",
    "        against.append(d[\"negative\"])\n",
    "        entails.append(d[\"entails\"])\n",
    "        contradicts.append(d[\"contradicts\"])\n",
    "\n",
    "        \n",
    "        Trues.append(d[\"True\"])\n",
    "        Falses.append(d[\"False\"])\n",
    "        Favor.append(d[\"Favor\"])\n",
    "        Against.append(d[\"Against\"])\n",
    "        Positive.append(d[\"Positive\"])\n",
    "        Negative.append(d[\"Negative\"])\n",
    "        Entails.append(d[\"Entails\"])\n",
    "        Contradicts.append(d[\"Contradicts\"])\n",
    "\n",
    "    except FileNotFoundError:\n",
    "        continue\n",
    "\n",
    "df_out['id'] = ids\n",
    "\n",
    "df_out['true'] = true\n",
    "df_out['false'] = false\n",
    "df_out['positive'] = positive\n",
    "df_out['negative'] = negative\n",
    "df_out['favor'] = favor\n",
    "df_out['against'] = against\n",
    "df_out['entails'] = entails\n",
    "df_out['contradicts'] = contradicts\n",
    "\n",
    "\n",
    "df_out['True'] = Trues\n",
    "df_out['False'] = Falses\n",
    "df_out['Positive'] = Positive\n",
    "df_out['Negative'] = Negative\n",
    "df_out['Favor'] = Favor\n",
    "df_out['Against'] = Against\n",
    "df_out['Entails'] = Entails\n",
    "df_out['Contradicts'] = Contradicts"
   ]
  },
  {
   "cell_type": "code",
   "execution_count": 3,
   "metadata": {},
   "outputs": [
    {
     "data": {
      "text/plain": [
       "1545"
      ]
     },
     "execution_count": 3,
     "metadata": {},
     "output_type": "execute_result"
    }
   ],
   "source": [
    "d['True']"
   ]
  },
  {
   "cell_type": "code",
   "execution_count": 4,
   "metadata": {},
   "outputs": [
    {
     "data": {
      "text/html": [
       "<div>\n",
       "<style scoped>\n",
       "    .dataframe tbody tr th:only-of-type {\n",
       "        vertical-align: middle;\n",
       "    }\n",
       "\n",
       "    .dataframe tbody tr th {\n",
       "        vertical-align: top;\n",
       "    }\n",
       "\n",
       "    .dataframe thead th {\n",
       "        text-align: right;\n",
       "    }\n",
       "</style>\n",
       "<table border=\"1\" class=\"dataframe\">\n",
       "  <thead>\n",
       "    <tr style=\"text-align: right;\">\n",
       "      <th></th>\n",
       "      <th>id</th>\n",
       "      <th>true</th>\n",
       "      <th>false</th>\n",
       "      <th>positive</th>\n",
       "      <th>negative</th>\n",
       "      <th>favor</th>\n",
       "      <th>against</th>\n",
       "      <th>entails</th>\n",
       "      <th>contradicts</th>\n",
       "      <th>True</th>\n",
       "      <th>False</th>\n",
       "      <th>Positive</th>\n",
       "      <th>Negative</th>\n",
       "      <th>Favor</th>\n",
       "      <th>Against</th>\n",
       "      <th>Entails</th>\n",
       "      <th>Contradicts</th>\n",
       "    </tr>\n",
       "  </thead>\n",
       "  <tbody>\n",
       "    <tr>\n",
       "      <th>0</th>\n",
       "      <td>0</td>\n",
       "      <td>14967</td>\n",
       "      <td>3133</td>\n",
       "      <td>13531</td>\n",
       "      <td>7252</td>\n",
       "      <td>13531</td>\n",
       "      <td>7252</td>\n",
       "      <td>455</td>\n",
       "      <td>108</td>\n",
       "      <td>1545</td>\n",
       "      <td>294</td>\n",
       "      <td>698</td>\n",
       "      <td>297</td>\n",
       "      <td>38</td>\n",
       "      <td>956</td>\n",
       "      <td>2</td>\n",
       "      <td>0</td>\n",
       "    </tr>\n",
       "  </tbody>\n",
       "</table>\n",
       "</div>"
      ],
      "text/plain": [
       "   id   true  false  positive  negative  favor  against  entails  contradicts  \\\n",
       "0   0  14967   3133     13531      7252  13531     7252      455          108   \n",
       "\n",
       "   True  False  Positive  Negative  Favor  Against  Entails  Contradicts  \n",
       "0  1545    294       698       297     38      956        2            0  "
      ]
     },
     "execution_count": 4,
     "metadata": {},
     "output_type": "execute_result"
    }
   ],
   "source": [
    "df_out"
   ]
  },
  {
   "cell_type": "code",
   "execution_count": 5,
   "metadata": {},
   "outputs": [
    {
     "name": "stdout",
     "output_type": "stream",
     "text": [
      "0\n"
     ]
    }
   ],
   "source": [
    "gb = {}\n",
    "for i in range(0,1):\n",
    "    if i%100 == 0:\n",
    "        print(i)\n",
    "    label = str(i).zfill(5)\n",
    "    jsonfilename = f'/data2/sg/racball/c4/en/c4-train.{label}-of-01024.json.gz'\n",
    "\n",
    "    with gzip.open(jsonfilename, 'r') as fin:\n",
    "        data = [json.loads(line)['text'] for line in fin]\n",
    "\n",
    "    counts = []\n",
    "    for k,sentence in enumerate(data): \n",
    "        words = re.findall(\"\\w+\", sentence)\n",
    "        local_dict = dict(Counter(zip(words, islice(words, 1, None))))\n",
    "\n",
    "        count = [local_dict[i] for i in local_dict.keys() if \"Entails\" in i[0] or \"Entails\" in i[1]]\n",
    "        for i in local_dict.keys():\n",
    "            if \"Entails\" in i[0] or \"Entails\" in i[1]:\n",
    "                if i in gb:\n",
    "                    gb[i] += sum(count)\n",
    "                else:\n",
    "                    gb[i] = sum(count)"
   ]
  },
  {
   "cell_type": "code",
   "execution_count": 34,
   "metadata": {},
   "outputs": [],
   "source": [
    "for k,y in enumerate(s):\n",
    "    a = re.findall(\"\\w+\", y)\n",
    "    break"
   ]
  },
  {
   "cell_type": "code",
   "execution_count": 35,
   "metadata": {},
   "outputs": [
    {
     "data": {
      "text/plain": [
       "['true', 'false']"
      ]
     },
     "execution_count": 35,
     "metadata": {},
     "output_type": "execute_result"
    }
   ],
   "source": [
    "a"
   ]
  },
  {
   "cell_type": "code",
   "execution_count": 32,
   "metadata": {},
   "outputs": [],
   "source": [
    "s = [[\"true/false\"]]"
   ]
  },
  {
   "cell_type": "code",
   "execution_count": 22,
   "metadata": {},
   "outputs": [
    {
     "ename": "TypeError",
     "evalue": "expected string or bytes-like object",
     "output_type": "error",
     "traceback": [
      "\u001b[0;31m---------------------------------------------------------------------------\u001b[0m",
      "\u001b[0;31mTypeError\u001b[0m                                 Traceback (most recent call last)",
      "\u001b[0;32m<ipython-input-22-6ee6d5ad46ba>\u001b[0m in \u001b[0;36m<module>\u001b[0;34m\u001b[0m\n\u001b[0;32m----> 1\u001b[0;31m \u001b[0mre\u001b[0m\u001b[0;34m.\u001b[0m\u001b[0mfindall\u001b[0m\u001b[0;34m(\u001b[0m\u001b[0;34m\"\\w+\"\u001b[0m\u001b[0;34m,\u001b[0m \u001b[0ms\u001b[0m\u001b[0;34m)\u001b[0m\u001b[0;34m\u001b[0m\u001b[0;34m\u001b[0m\u001b[0m\n\u001b[0m",
      "\u001b[0;32m/nobackup/racball/miniconda3/envs/beliefnet/lib/python3.7/re.py\u001b[0m in \u001b[0;36mfindall\u001b[0;34m(pattern, string, flags)\u001b[0m\n\u001b[1;32m    223\u001b[0m \u001b[0;34m\u001b[0m\u001b[0m\n\u001b[1;32m    224\u001b[0m     Empty matches are included in the result.\"\"\"\n\u001b[0;32m--> 225\u001b[0;31m     \u001b[0;32mreturn\u001b[0m \u001b[0m_compile\u001b[0m\u001b[0;34m(\u001b[0m\u001b[0mpattern\u001b[0m\u001b[0;34m,\u001b[0m \u001b[0mflags\u001b[0m\u001b[0;34m)\u001b[0m\u001b[0;34m.\u001b[0m\u001b[0mfindall\u001b[0m\u001b[0;34m(\u001b[0m\u001b[0mstring\u001b[0m\u001b[0;34m)\u001b[0m\u001b[0;34m\u001b[0m\u001b[0;34m\u001b[0m\u001b[0m\n\u001b[0m\u001b[1;32m    226\u001b[0m \u001b[0;34m\u001b[0m\u001b[0m\n\u001b[1;32m    227\u001b[0m \u001b[0;32mdef\u001b[0m \u001b[0mfinditer\u001b[0m\u001b[0;34m(\u001b[0m\u001b[0mpattern\u001b[0m\u001b[0;34m,\u001b[0m \u001b[0mstring\u001b[0m\u001b[0;34m,\u001b[0m \u001b[0mflags\u001b[0m\u001b[0;34m=\u001b[0m\u001b[0;36m0\u001b[0m\u001b[0;34m)\u001b[0m\u001b[0;34m:\u001b[0m\u001b[0;34m\u001b[0m\u001b[0;34m\u001b[0m\u001b[0m\n",
      "\u001b[0;31mTypeError\u001b[0m: expected string or bytes-like object"
     ]
    }
   ],
   "source": [
    "re.findall(\"\\w+\", s)"
   ]
  },
  {
   "cell_type": "code",
   "execution_count": 21,
   "metadata": {},
   "outputs": [
    {
     "data": {
      "text/plain": [
       "Counter({'true/false': 1})"
      ]
     },
     "execution_count": 21,
     "metadata": {},
     "output_type": "execute_result"
    }
   ],
   "source": [
    "x = [i.split() for i in s]\n",
    "Counter([item for sublist in x for item in sublist])"
   ]
  },
  {
   "cell_type": "code",
   "execution_count": 6,
   "metadata": {},
   "outputs": [
    {
     "data": {
      "text/plain": [
       "{('entailment', 'Entails'): 2,\n",
       " ('Entails', 'in'): 2,\n",
       " ('of', 'Entails'): 2,\n",
       " ('Entails', 'http'): 2}"
      ]
     },
     "execution_count": 6,
     "metadata": {},
     "output_type": "execute_result"
    }
   ],
   "source": [
    "gb"
   ]
  },
  {
   "cell_type": "code",
   "execution_count": 14,
   "metadata": {},
   "outputs": [],
   "source": [
    "s = \"true/false\""
   ]
  }
 ],
 "metadata": {
  "kernelspec": {
   "display_name": "beliefnet",
   "language": "python",
   "name": "python3"
  },
  "language_info": {
   "codemirror_mode": {
    "name": "ipython",
    "version": 3
   },
   "file_extension": ".py",
   "mimetype": "text/x-python",
   "name": "python",
   "nbconvert_exporter": "python",
   "pygments_lexer": "ipython3",
   "version": "3.7.9"
  },
  "orig_nbformat": 4,
  "vscode": {
   "interpreter": {
    "hash": "acdf8f5b38c0b30253f647fd17a8f7b3033b1f5bd587826b693f1e173e93cdcd"
   }
  }
 },
 "nbformat": 4,
 "nbformat_minor": 2
}
