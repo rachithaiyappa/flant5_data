{
 "cells": [
  {
   "cell_type": "code",
   "execution_count": 1,
   "metadata": {},
   "outputs": [
    {
     "name": "stderr",
     "output_type": "stream",
     "text": [
      "/nobackup/racball/miniconda3/envs/suffix_array/lib/python3.10/site-packages/tqdm/auto.py:21: TqdmWarning: IProgress not found. Please update jupyter and ipywidgets. See https://ipywidgets.readthedocs.io/en/stable/user_install.html\n",
      "  from .autonotebook import tqdm as notebook_tqdm\n",
      "2023-03-08 13:30:13.122810: I tensorflow/core/platform/cpu_feature_guard.cc:193] This TensorFlow binary is optimized with oneAPI Deep Neural Network Library (oneDNN) to use the following CPU instructions in performance-critical operations:  AVX2 AVX512F AVX512_VNNI FMA\n",
      "To enable them in other operations, rebuild TensorFlow with the appropriate compiler flags.\n",
      "2023-03-08 13:30:13.280831: I tensorflow/core/util/port.cc:104] oneDNN custom operations are on. You may see slightly different numerical results due to floating-point round-off errors from different computation orders. To turn them off, set the environment variable `TF_ENABLE_ONEDNN_OPTS=0`.\n",
      "2023-03-08 13:30:13.285077: W tensorflow/compiler/xla/stream_executor/platform/default/dso_loader.cc:64] Could not load dynamic library 'libcudart.so.11.0'; dlerror: libcudart.so.11.0: cannot open shared object file: No such file or directory\n",
      "2023-03-08 13:30:13.285095: I tensorflow/compiler/xla/stream_executor/cuda/cudart_stub.cc:29] Ignore above cudart dlerror if you do not have a GPU set up on your machine.\n",
      "2023-03-08 13:30:14.166363: W tensorflow/compiler/xla/stream_executor/platform/default/dso_loader.cc:64] Could not load dynamic library 'libnvinfer.so.7'; dlerror: libnvinfer.so.7: cannot open shared object file: No such file or directory\n",
      "2023-03-08 13:30:14.166441: W tensorflow/compiler/xla/stream_executor/platform/default/dso_loader.cc:64] Could not load dynamic library 'libnvinfer_plugin.so.7'; dlerror: libnvinfer_plugin.so.7: cannot open shared object file: No such file or directory\n",
      "2023-03-08 13:30:14.166449: W tensorflow/compiler/tf2tensorrt/utils/py_utils.cc:38] TF-TRT Warning: Cannot dlopen some TensorRT libraries. If you would like to use Nvidia GPU with TensorRT, please make sure the missing libraries mentioned above are installed properly.\n"
     ]
    }
   ],
   "source": [
    "import tensorflow_datasets as tfds\n",
    "import tensorflow as tf\n",
    "import numpy as np\n",
    "import gzip\n",
    "import json\n",
    "import os\n",
    "import multiprocessing as mp\n",
    "import struct\n"
   ]
  },
  {
   "cell_type": "code",
   "execution_count": 2,
   "metadata": {},
   "outputs": [
    {
     "name": "stderr",
     "output_type": "stream",
     "text": [
      "2023-03-08 13:30:16.122950: W tensorflow/compiler/xla/stream_executor/platform/default/dso_loader.cc:64] Could not load dynamic library 'libcudart.so.11.0'; dlerror: libcudart.so.11.0: cannot open shared object file: No such file or directory\n",
      "2023-03-08 13:30:16.123027: W tensorflow/compiler/xla/stream_executor/platform/default/dso_loader.cc:64] Could not load dynamic library 'libcublas.so.11'; dlerror: libcublas.so.11: cannot open shared object file: No such file or directory\n",
      "2023-03-08 13:30:16.123073: W tensorflow/compiler/xla/stream_executor/platform/default/dso_loader.cc:64] Could not load dynamic library 'libcublasLt.so.11'; dlerror: libcublasLt.so.11: cannot open shared object file: No such file or directory\n",
      "2023-03-08 13:30:16.123117: W tensorflow/compiler/xla/stream_executor/platform/default/dso_loader.cc:64] Could not load dynamic library 'libcufft.so.10'; dlerror: libcufft.so.10: cannot open shared object file: No such file or directory\n",
      "2023-03-08 13:30:16.163090: W tensorflow/compiler/xla/stream_executor/platform/default/dso_loader.cc:64] Could not load dynamic library 'libcusparse.so.11'; dlerror: libcusparse.so.11: cannot open shared object file: No such file or directory\n",
      "2023-03-08 13:30:16.163166: W tensorflow/compiler/xla/stream_executor/platform/default/dso_loader.cc:64] Could not load dynamic library 'libcudnn.so.8'; dlerror: libcudnn.so.8: cannot open shared object file: No such file or directory\n",
      "2023-03-08 13:30:16.163184: W tensorflow/core/common_runtime/gpu/gpu_device.cc:1934] Cannot dlopen some GPU libraries. Please make sure the missing libraries mentioned above are installed properly if you would like to use GPU. Follow the guide at https://www.tensorflow.org/install/gpu for how to download and setup the required libraries for your platform.\n",
      "Skipping registering GPU devices...\n",
      "2023-03-08 13:30:16.164315: I tensorflow/core/platform/cpu_feature_guard.cc:193] This TensorFlow binary is optimized with oneAPI Deep Neural Network Library (oneDNN) to use the following CPU instructions in performance-critical operations:  AVX2 AVX512F AVX512_VNNI FMA\n",
      "To enable them in other operations, rebuild TensorFlow with the appropriate compiler flags.\n"
     ]
    }
   ],
   "source": [
    "ds = tfds.load(name = \"wiki40b\", data_dir=\"../suffix_array/deduplicate-text-datasets/tensorflow_datasets/\",split='test')"
   ]
  },
  {
   "cell_type": "code",
   "execution_count": 4,
   "metadata": {},
   "outputs": [],
   "source": [
    "for b in ds:\n",
    "    # print(i)\n",
    "\n",
    "    text = b['text'].numpy()\n",
    "    break"
   ]
  },
  {
   "cell_type": "code",
   "execution_count": 10,
   "metadata": {},
   "outputs": [
    {
     "data": {
      "text/plain": [
       "{'text': <tf.Tensor: shape=(), dtype=string, numpy=b'\\n_START_ARTICLE_\\nJapanese pop culture in the United States\\n_START_SECTION_\\nAnime in the United States\\n_START_PARAGRAPH_\\nAnime culture in the United States began as a niche community that had a grassroots foundation built by groups of fans on the local level. Some of the earliest televised anime to air in the United States were Astro Boy, Speed Racer, and Gigantor, which gained popularity with many American audiences during the late 1960s. Anime shows that aired in the United States up until the 1980s were usually heavily altered and localized, such as Science Ninja Team Gatchaman becoming Battle of the Planets in the 1970s, and the mecha show Macross becoming Robotech in the 1980s. Takara\\'s Diaclone and Microman mecha toylines also became the basis for the Transformers franchise in the 1980s._NEWLINE_Small patches of isolated communities started to form around collective interest towards this new medium, which seemed reminiscent of familiar Disney visuals and Warner-Brothers narratives. One of these communities was the first anime fan club called the Cartoon/Fantasy Organization (C/FO), formed in Los Angeles, California during 1977; club actives involved monthly meets in order to watch newly aired anime. The early popularity was driven by fan-subtitled content and remained that way until much later, when inter-connected entrepreneurs from Japan and the United States saw an opportunity for business through this new medium. These business opportunities eventually led to the founding of Streamline Pictures, the United States\\' first anime import company in 1989, thus starting anime\\'s widespread commercialization. Over the next dozen years, anime fans became more connected through fan-held conventions and the internet. These groups began to develop new social identities, centered around what they saw as an overall interconnected community._NEWLINE_A subculture began to grow around the United States revolving around people who identified with the social identity \\xe2\\x80\\x9cAnime fan.\\xe2\\x80\\x9d The strong imagined community built by the fandom since the earliest days was both the backbone and reason for the subculture\\xe2\\x80\\x99s growth. Today, early 2000\\'s anime shows like Pokemon has become almost universally recognized media in the United States._NEWLINE_This love for anime in the United States has even brought out well known movie stars to produce and star (their voice) in these series.  Michael B. Jordan, from Black Panther & Creed fame, is starring in his own series and producing the series gen:LOCK.  The stereotype of being a nerd or geek if you watch anime has changed and it is mainstream now. This is good since people can let their geekiness out and not feel like they will be judged a certain way.  This has definitely helped the genre to grow more and this has helped sales and influence many creators.\\n_START_SECTION_\\nAnime fan-culture\\n_START_PARAGRAPH_\\nAlthough anime can be considered by some as distinctly Japanese animation, some scholars and fans relate to them by their animated nature similar to the works of Walt Disney. Researchers found that this created a subset of people that distinguish themselves from the similar subculture of Japanophiles. The fandom originally proliferated using participatory media via the nature of fan-subbing anime, or the English subtitling of the original Japanese shows. This voluntary labor connects people on a global scale as fans from all over the world participate in and benefit from the collective community\\'s work. During the 1990s, industry officials viewed fan-subtitlers as useful to the budding Anime industry, as they used fan production to see where potentially profitable markets might lie. Interviews from some of the earliest fansubbers reveal that most of them subscribed to an unspoken code that they should not make a profit from their illegal activities. However, most distributors did ask to be reimbursed for the cost of the tape and for shipping. Whether through fansubbing or professional industry-translated anime and manga, the North American distribution of anime and manga has been primarily an import business for the Japanese-produced content. However, due to the nature of its roots, the fandom is better thought of as a hybrid of American and Japanese cultural notes._NEWLINE_Interview with modern-day anime fans reveal that some have no interest in its Japanese roots, merely that they enjoy the fashion or particular facets of the fandom. Scholars highlight the reason for this phenomenon as being the increasing hybrid factor of anime caused by integrating North America\\xe2\\x80\\x99s popular culture characteristics. Because of the nature of imports, scholars found that the natural selectivity of anime importing by American companies cause the perception of anime to grow increasingly Western, as anime itself as a medium covers a broad range of genres._NEWLINE_The Japanese anime has infiltrated the biggest cartoon network that is in the United States, Cartoon Network.  This has had a huge impact on a new generation of viewers to by introduced to anime and the different styles.  If you look at the original Cartoon Network series, Adventures of Gumball and especially Teen Titans Go, you can see how they used the anime style with their animation and even their theme song is very Japanese inspired.  Adventures of Gumball has a lot of references to the different animes and will cause some viewers to check out those series and influence more people to check out Japanese anime.  It has become so popular; they have even created a special time slot for new series and re-occurring popular series on their Saturday night Toonami segment.  There is such a rich culture that is brought out in the anime, you can watch about Japan\\xe2\\x80\\x99s early history about the samurai and the bloody wars that are associated with them.  Having these types of \\xe2\\x80\\x9chistorical\\xe2\\x80\\x9d anime gives people an insight on how Japan became how it is today, granted it does have some creator interpretation on the story which might not be historically accurate.  But these animes like Rurouni Kenshin gives the viewer a glimpse in the Meiji era and has plenty of action and romance as well.  This has influence other American shows like Samurai Jack and Afro Samurai: Resurrection that had the voice of Samuel L. Jackson.\\n_START_SECTION_\\nAnime conventions\\n_START_PARAGRAPH_\\nPrimarily the function of anime conventions in the United States is to give a place to fans of anime, manga and Japanese culture. There are a range of informational panels offered at these conventions from the basics of Japanese language and culture to cutting edge news about anime releases in Japan and the US. Anime conventions also provide performances and vendors of Japanese goods, manga, anime, figurines and Anime related merchandise.  Most American anime conventions are fan operated, the increase in popularity starting in the \\'90s, sprung forth a long-standing list of annual conventions, such as Anime Expo, AnimeFest, Otakon, and Anime Boston, which continue to today with numbers of attendance reaching over 10,000.\\n_START_SECTION_\\nAnime influence and sales\\n_START_PARAGRAPH_\\nThrough the last two decades the introduction of anime into American mainstream culture has furthered its popularity. Such famous titles as Sailor Moon, Dragon Ball Z, and most importantly Pok\\xc3\\xa9mon have influenced anime\\'s appeal to young Americans. \"Anime already makes up an estimated 60% of all broadcast animation across the world.\" \"ICv2 estimates the size of the North American anime market at $275-300 million\" (in retail dollars).\" To compete with its Japanese competitors, many production companies in the US have adjusted their style to one inspired by anime to hold onto their viewers. An important example that has sparked much controversy in the animation world would be Avatar: The Last Airbender. A popular show on Nickelodeon, the characters have a distinct anime style, even the expressions and mannerism drawn evoke that of anime style. Teen Titans on Cartoon Network is yet another example of anime\\'s influence on cartoons, as well as a popular comic strip turned cartoon called The Boondocks. In recent years there has also been development of Anime developed in the United States in collaboration with Japan, examples would be the Netflix original series Neo Yokio and Castlevania (TV series) based off the video game series._NEWLINE_Unlike American cartoons where they have a lot of standalone episodes where you can jump into the series and enjoy the series, Japanese anime is more of a complex story-line that builds on the previous episodes.  This is why it is so popular in the United States since people can get to know the characters better and become invested in the series and at times dress up like them for conventions or just Cosplay (costume play).  The show incorporates real life in the series where the viewer can see the person attend High School, which is similar to the ones in real life.  They can learn a lot about the Japanese culture which enticed people to want to learn more about the culture and even possible visit Japan.  With the Anime boom and how much revenue is created from this, the United States has jumped on board to create their own shows with anime style animation.  You can see this in the Avatar: The Last Air-bender as well as its sequel, The Legend of Korra.\\n_START_SECTION_\\nManga in the United States\\n_START_PARAGRAPH_\\nAlong with the translating and purchasing of Japanese manga in the United States, this led to the development of artists and writers in the country to develop their own manga. These were called Original English Language manga (OEL manga for short). These comics were mostly a retelling of a piece of American entertainment, such as Disney films, or perhaps a sequel to a movie, TV series, or adaptation of a video game.\\n_START_SECTION_\\nManga influences and sales\\n_START_PARAGRAPH_\\nCalvin Reid of Publishers Weekly estimated that the \"Total U.S. manga sales in 2007 rose about 10%, to more than $220 million, and about 1,468 titles are estimated to have been released last year.\"  With the popularity of manga on the rise graphic novel artists are beginning to adapt their style to that of manga. Manga provides diversity in the graphic novel department not seen in the American comic book industry. In a different trend celebrities are getting their hands into the manga market, rock star Courtney Love has published her own manga called Princess Ai. The production of original English language manga has started. CBR columnists Joe Casey and Matt Fraction describe the increase of manga sales in the United States, \"Manga is the 900-pound bear in the comics shop. Inescapable, unavoidable, and impossible to ignore, the manga explosion is either going to go away\\xe2\\x80\\x94which is bad, as so many mass-market bookstores seem to be bulking up their comics supply based on manga\\'s lead\\xe2\\x80\\x94or manga will continue to grow\\xe2\\x80\\x94also bad, as the direct market scrambles to keep up. The entire industry is being forced, month by month, little by little, into a paradigm shift not seen since the advent of the direct market in the early \\'80s, all thanks to these strange little books from far away.\"\\n_START_SECTION_\\nVideo gaming\\n_START_PARAGRAPH_\\nSince the early 1970\\'s, Japan has been home to some of the most famous and influential video game companies in the world; some of the most well-known include Nintendo, Sega and Namco. The games produced by the companies are extremely well-known across the world, including the famous arcade game Pac-Man and the incredibly popular Super Mario Bros. which has still been ranked as one of the best games of all time, and both have gone on to spawn several sequels and remakes.\\n_START_SECTION_\\nAmerican cosplayers\\n_START_PARAGRAPH_\\nThe term \"cosplay\" corresponds to an abbreviation of the English words costume play, though the term was coined in Japan the practice is not solely Japanese. The use of the term cosplay applies to any costumed role play outside of theaters. Characters are often taken from popular Japanese fiction. Popular sources that fans draw from include anime, manga, video games, comic books, and graphic novels. American cosplayers practice this form of fandom at anime conventions. However, there are a growing number of web pages and photo sites dedicated to the art of cosplaying, such as DeviantArt and Cosplay.com.\\n_START_SECTION_\\nMusic\\n_START_PARAGRAPH_\\nJapanese pop and rock music acts are also increasing in popularity amongst US listeners. Such artists include L\\'Arc-en-Ciel, Miyavi, T.M.Revolution, Hikaru Utada, Asian Kung-Fu Generation, Dir En Grey, Yellow Magic Orchestra, and Susumu Hirasawa. Growing in popularity by the year these performers have toured the United States at least twice playing at small venues in Boston, New York City and Los Angeles each time increasing their fan base. Japanese American artist Hikaru Utada released an English debut album in 2004, her single \"Devil Inside\" topped the Billboard Hot Dance/Club Airplay charts. Dir En Grey, in early 2006 started touring the US. Japanese idols, like Morning Musume, AKB48 and S/mileage are now becoming known in the US thanks to the internet. In 2009, Morning Musume performed at Anime Expo and in 2010 AKB48 played there. Also in 2010, influential metal band X Japan performed their first US tour, selling out most shows. In April 2011, Berryz Kobo played at an anime convention in Washington. Japanese manga art has also influenced American music artists and singers, such as Pharrell Williams whose music video It Girl (Pharrell Williams song) contains a wide array of anime style artwork. Even the electronic musicians Daft Punk have used anime artwork in several of their music videos such as Harder, Better, Faster, Stronger, One More Time (Daft Punk song) and Something About Us (Daft Punk song).'>,\n",
       " 'version_id': <tf.Tensor: shape=(), dtype=string, numpy=b'13315467746537457125'>,\n",
       " 'wikidata_id': <tf.Tensor: shape=(), dtype=string, numpy=b'Q17050076'>}"
      ]
     },
     "execution_count": 10,
     "metadata": {},
     "output_type": "execute_result"
    }
   ],
   "source": [
    "b"
   ]
  },
  {
   "cell_type": "code",
   "execution_count": 5,
   "metadata": {},
   "outputs": [
    {
     "data": {
      "text/plain": [
       "b'\\n_START_ARTICLE_\\nJapanese pop culture in the United States\\n_START_SECTION_\\nAnime in the United States\\n_START_PARAGRAPH_\\nAnime culture in the United States began as a niche community that had a grassroots foundation built by groups of fans on the local level. Some of the earliest televised anime to air in the United States were Astro Boy, Speed Racer, and Gigantor, which gained popularity with many American audiences during the late 1960s. Anime shows that aired in the United States up until the 1980s were usually heavily altered and localized, such as Science Ninja Team Gatchaman becoming Battle of the Planets in the 1970s, and the mecha show Macross becoming Robotech in the 1980s. Takara\\'s Diaclone and Microman mecha toylines also became the basis for the Transformers franchise in the 1980s._NEWLINE_Small patches of isolated communities started to form around collective interest towards this new medium, which seemed reminiscent of familiar Disney visuals and Warner-Brothers narratives. One of these communities was the first anime fan club called the Cartoon/Fantasy Organization (C/FO), formed in Los Angeles, California during 1977; club actives involved monthly meets in order to watch newly aired anime. The early popularity was driven by fan-subtitled content and remained that way until much later, when inter-connected entrepreneurs from Japan and the United States saw an opportunity for business through this new medium. These business opportunities eventually led to the founding of Streamline Pictures, the United States\\' first anime import company in 1989, thus starting anime\\'s widespread commercialization. Over the next dozen years, anime fans became more connected through fan-held conventions and the internet. These groups began to develop new social identities, centered around what they saw as an overall interconnected community._NEWLINE_A subculture began to grow around the United States revolving around people who identified with the social identity \\xe2\\x80\\x9cAnime fan.\\xe2\\x80\\x9d The strong imagined community built by the fandom since the earliest days was both the backbone and reason for the subculture\\xe2\\x80\\x99s growth. Today, early 2000\\'s anime shows like Pokemon has become almost universally recognized media in the United States._NEWLINE_This love for anime in the United States has even brought out well known movie stars to produce and star (their voice) in these series.  Michael B. Jordan, from Black Panther & Creed fame, is starring in his own series and producing the series gen:LOCK.  The stereotype of being a nerd or geek if you watch anime has changed and it is mainstream now. This is good since people can let their geekiness out and not feel like they will be judged a certain way.  This has definitely helped the genre to grow more and this has helped sales and influence many creators.\\n_START_SECTION_\\nAnime fan-culture\\n_START_PARAGRAPH_\\nAlthough anime can be considered by some as distinctly Japanese animation, some scholars and fans relate to them by their animated nature similar to the works of Walt Disney. Researchers found that this created a subset of people that distinguish themselves from the similar subculture of Japanophiles. The fandom originally proliferated using participatory media via the nature of fan-subbing anime, or the English subtitling of the original Japanese shows. This voluntary labor connects people on a global scale as fans from all over the world participate in and benefit from the collective community\\'s work. During the 1990s, industry officials viewed fan-subtitlers as useful to the budding Anime industry, as they used fan production to see where potentially profitable markets might lie. Interviews from some of the earliest fansubbers reveal that most of them subscribed to an unspoken code that they should not make a profit from their illegal activities. However, most distributors did ask to be reimbursed for the cost of the tape and for shipping. Whether through fansubbing or professional industry-translated anime and manga, the North American distribution of anime and manga has been primarily an import business for the Japanese-produced content. However, due to the nature of its roots, the fandom is better thought of as a hybrid of American and Japanese cultural notes._NEWLINE_Interview with modern-day anime fans reveal that some have no interest in its Japanese roots, merely that they enjoy the fashion or particular facets of the fandom. Scholars highlight the reason for this phenomenon as being the increasing hybrid factor of anime caused by integrating North America\\xe2\\x80\\x99s popular culture characteristics. Because of the nature of imports, scholars found that the natural selectivity of anime importing by American companies cause the perception of anime to grow increasingly Western, as anime itself as a medium covers a broad range of genres._NEWLINE_The Japanese anime has infiltrated the biggest cartoon network that is in the United States, Cartoon Network.  This has had a huge impact on a new generation of viewers to by introduced to anime and the different styles.  If you look at the original Cartoon Network series, Adventures of Gumball and especially Teen Titans Go, you can see how they used the anime style with their animation and even their theme song is very Japanese inspired.  Adventures of Gumball has a lot of references to the different animes and will cause some viewers to check out those series and influence more people to check out Japanese anime.  It has become so popular; they have even created a special time slot for new series and re-occurring popular series on their Saturday night Toonami segment.  There is such a rich culture that is brought out in the anime, you can watch about Japan\\xe2\\x80\\x99s early history about the samurai and the bloody wars that are associated with them.  Having these types of \\xe2\\x80\\x9chistorical\\xe2\\x80\\x9d anime gives people an insight on how Japan became how it is today, granted it does have some creator interpretation on the story which might not be historically accurate.  But these animes like Rurouni Kenshin gives the viewer a glimpse in the Meiji era and has plenty of action and romance as well.  This has influence other American shows like Samurai Jack and Afro Samurai: Resurrection that had the voice of Samuel L. Jackson.\\n_START_SECTION_\\nAnime conventions\\n_START_PARAGRAPH_\\nPrimarily the function of anime conventions in the United States is to give a place to fans of anime, manga and Japanese culture. There are a range of informational panels offered at these conventions from the basics of Japanese language and culture to cutting edge news about anime releases in Japan and the US. Anime conventions also provide performances and vendors of Japanese goods, manga, anime, figurines and Anime related merchandise.  Most American anime conventions are fan operated, the increase in popularity starting in the \\'90s, sprung forth a long-standing list of annual conventions, such as Anime Expo, AnimeFest, Otakon, and Anime Boston, which continue to today with numbers of attendance reaching over 10,000.\\n_START_SECTION_\\nAnime influence and sales\\n_START_PARAGRAPH_\\nThrough the last two decades the introduction of anime into American mainstream culture has furthered its popularity. Such famous titles as Sailor Moon, Dragon Ball Z, and most importantly Pok\\xc3\\xa9mon have influenced anime\\'s appeal to young Americans. \"Anime already makes up an estimated 60% of all broadcast animation across the world.\" \"ICv2 estimates the size of the North American anime market at $275-300 million\" (in retail dollars).\" To compete with its Japanese competitors, many production companies in the US have adjusted their style to one inspired by anime to hold onto their viewers. An important example that has sparked much controversy in the animation world would be Avatar: The Last Airbender. A popular show on Nickelodeon, the characters have a distinct anime style, even the expressions and mannerism drawn evoke that of anime style. Teen Titans on Cartoon Network is yet another example of anime\\'s influence on cartoons, as well as a popular comic strip turned cartoon called The Boondocks. In recent years there has also been development of Anime developed in the United States in collaboration with Japan, examples would be the Netflix original series Neo Yokio and Castlevania (TV series) based off the video game series._NEWLINE_Unlike American cartoons where they have a lot of standalone episodes where you can jump into the series and enjoy the series, Japanese anime is more of a complex story-line that builds on the previous episodes.  This is why it is so popular in the United States since people can get to know the characters better and become invested in the series and at times dress up like them for conventions or just Cosplay (costume play).  The show incorporates real life in the series where the viewer can see the person attend High School, which is similar to the ones in real life.  They can learn a lot about the Japanese culture which enticed people to want to learn more about the culture and even possible visit Japan.  With the Anime boom and how much revenue is created from this, the United States has jumped on board to create their own shows with anime style animation.  You can see this in the Avatar: The Last Air-bender as well as its sequel, The Legend of Korra.\\n_START_SECTION_\\nManga in the United States\\n_START_PARAGRAPH_\\nAlong with the translating and purchasing of Japanese manga in the United States, this led to the development of artists and writers in the country to develop their own manga. These were called Original English Language manga (OEL manga for short). These comics were mostly a retelling of a piece of American entertainment, such as Disney films, or perhaps a sequel to a movie, TV series, or adaptation of a video game.\\n_START_SECTION_\\nManga influences and sales\\n_START_PARAGRAPH_\\nCalvin Reid of Publishers Weekly estimated that the \"Total U.S. manga sales in 2007 rose about 10%, to more than $220 million, and about 1,468 titles are estimated to have been released last year.\"  With the popularity of manga on the rise graphic novel artists are beginning to adapt their style to that of manga. Manga provides diversity in the graphic novel department not seen in the American comic book industry. In a different trend celebrities are getting their hands into the manga market, rock star Courtney Love has published her own manga called Princess Ai. The production of original English language manga has started. CBR columnists Joe Casey and Matt Fraction describe the increase of manga sales in the United States, \"Manga is the 900-pound bear in the comics shop. Inescapable, unavoidable, and impossible to ignore, the manga explosion is either going to go away\\xe2\\x80\\x94which is bad, as so many mass-market bookstores seem to be bulking up their comics supply based on manga\\'s lead\\xe2\\x80\\x94or manga will continue to grow\\xe2\\x80\\x94also bad, as the direct market scrambles to keep up. The entire industry is being forced, month by month, little by little, into a paradigm shift not seen since the advent of the direct market in the early \\'80s, all thanks to these strange little books from far away.\"\\n_START_SECTION_\\nVideo gaming\\n_START_PARAGRAPH_\\nSince the early 1970\\'s, Japan has been home to some of the most famous and influential video game companies in the world; some of the most well-known include Nintendo, Sega and Namco. The games produced by the companies are extremely well-known across the world, including the famous arcade game Pac-Man and the incredibly popular Super Mario Bros. which has still been ranked as one of the best games of all time, and both have gone on to spawn several sequels and remakes.\\n_START_SECTION_\\nAmerican cosplayers\\n_START_PARAGRAPH_\\nThe term \"cosplay\" corresponds to an abbreviation of the English words costume play, though the term was coined in Japan the practice is not solely Japanese. The use of the term cosplay applies to any costumed role play outside of theaters. Characters are often taken from popular Japanese fiction. Popular sources that fans draw from include anime, manga, video games, comic books, and graphic novels. American cosplayers practice this form of fandom at anime conventions. However, there are a growing number of web pages and photo sites dedicated to the art of cosplaying, such as DeviantArt and Cosplay.com.\\n_START_SECTION_\\nMusic\\n_START_PARAGRAPH_\\nJapanese pop and rock music acts are also increasing in popularity amongst US listeners. Such artists include L\\'Arc-en-Ciel, Miyavi, T.M.Revolution, Hikaru Utada, Asian Kung-Fu Generation, Dir En Grey, Yellow Magic Orchestra, and Susumu Hirasawa. Growing in popularity by the year these performers have toured the United States at least twice playing at small venues in Boston, New York City and Los Angeles each time increasing their fan base. Japanese American artist Hikaru Utada released an English debut album in 2004, her single \"Devil Inside\" topped the Billboard Hot Dance/Club Airplay charts. Dir En Grey, in early 2006 started touring the US. Japanese idols, like Morning Musume, AKB48 and S/mileage are now becoming known in the US thanks to the internet. In 2009, Morning Musume performed at Anime Expo and in 2010 AKB48 played there. Also in 2010, influential metal band X Japan performed their first US tour, selling out most shows. In April 2011, Berryz Kobo played at an anime convention in Washington. Japanese manga art has also influenced American music artists and singers, such as Pharrell Williams whose music video It Girl (Pharrell Williams song) contains a wide array of anime style artwork. Even the electronic musicians Daft Punk have used anime artwork in several of their music videos such as Harder, Better, Faster, Stronger, One More Time (Daft Punk song) and Something About Us (Daft Punk song).'"
      ]
     },
     "execution_count": 5,
     "metadata": {},
     "output_type": "execute_result"
    }
   ],
   "source": [
    "b['text'].numpy()"
   ]
  },
  {
   "cell_type": "code",
   "execution_count": 7,
   "metadata": {},
   "outputs": [
    {
     "data": {
      "text/plain": [
       "b'\\n_START_ARTICLE_\\nJapanese pop culture in the United States\\n_START_SECTION_\\nAnime in the United States\\n_START_PARAGRAPH_\\nAnime culture in the United States began as a niche community that had a grassroots foundation built by groups of fans on the local level. Some of the earliest televised anime to air in the United States were Astro Boy, Speed Racer, and Gigantor, which gained popularity with many American audiences during the late 1960s. Anime shows that aired in the United States up until the 1980s were usually heavily altered and localized, such as Science Ninja Team Gatchaman becoming Battle of the Planets in the 1970s, and the mecha show Macross becoming Robotech in the 1980s. Takara\\'s Diaclone and Microman mecha toylines also became the basis for the Transformers franchise in the 1980s._NEWLINE_Small patches of isolated communities started to form around collective interest towards this new medium, which seemed reminiscent of familiar Disney visuals and Warner-Brothers narratives. One of these communities was the first anime fan club called the Cartoon/Fantasy Organization (C/FO), formed in Los Angeles, California during 1977; club actives involved monthly meets in order to watch newly aired anime. The early popularity was driven by fan-subtitled content and remained that way until much later, when inter-connected entrepreneurs from Japan and the United States saw an opportunity for business through this new medium. These business opportunities eventually led to the founding of Streamline Pictures, the United States\\' first anime import company in 1989, thus starting anime\\'s widespread commercialization. Over the next dozen years, anime fans became more connected through fan-held conventions and the internet. These groups began to develop new social identities, centered around what they saw as an overall interconnected community._NEWLINE_A subculture began to grow around the United States revolving around people who identified with the social identity \\xe2\\x80\\x9cAnime fan.\\xe2\\x80\\x9d The strong imagined community built by the fandom since the earliest days was both the backbone and reason for the subculture\\xe2\\x80\\x99s growth. Today, early 2000\\'s anime shows like Pokemon has become almost universally recognized media in the United States._NEWLINE_This love for anime in the United States has even brought out well known movie stars to produce and star (their voice) in these series.  Michael B. Jordan, from Black Panther & Creed fame, is starring in his own series and producing the series gen:LOCK.  The stereotype of being a nerd or geek if you watch anime has changed and it is mainstream now. This is good since people can let their geekiness out and not feel like they will be judged a certain way.  This has definitely helped the genre to grow more and this has helped sales and influence many creators.\\n_START_SECTION_\\nAnime fan-culture\\n_START_PARAGRAPH_\\nAlthough anime can be considered by some as distinctly Japanese animation, some scholars and fans relate to them by their animated nature similar to the works of Walt Disney. Researchers found that this created a subset of people that distinguish themselves from the similar subculture of Japanophiles. The fandom originally proliferated using participatory media via the nature of fan-subbing anime, or the English subtitling of the original Japanese shows. This voluntary labor connects people on a global scale as fans from all over the world participate in and benefit from the collective community\\'s work. During the 1990s, industry officials viewed fan-subtitlers as useful to the budding Anime industry, as they used fan production to see where potentially profitable markets might lie. Interviews from some of the earliest fansubbers reveal that most of them subscribed to an unspoken code that they should not make a profit from their illegal activities. However, most distributors did ask to be reimbursed for the cost of the tape and for shipping. Whether through fansubbing or professional industry-translated anime and manga, the North American distribution of anime and manga has been primarily an import business for the Japanese-produced content. However, due to the nature of its roots, the fandom is better thought of as a hybrid of American and Japanese cultural notes._NEWLINE_Interview with modern-day anime fans reveal that some have no interest in its Japanese roots, merely that they enjoy the fashion or particular facets of the fandom. Scholars highlight the reason for this phenomenon as being the increasing hybrid factor of anime caused by integrating North America\\xe2\\x80\\x99s popular culture characteristics. Because of the nature of imports, scholars found that the natural selectivity of anime importing by American companies cause the perception of anime to grow increasingly Western, as anime itself as a medium covers a broad range of genres._NEWLINE_The Japanese anime has infiltrated the biggest cartoon network that is in the United States, Cartoon Network.  This has had a huge impact on a new generation of viewers to by introduced to anime and the different styles.  If you look at the original Cartoon Network series, Adventures of Gumball and especially Teen Titans Go, you can see how they used the anime style with their animation and even their theme song is very Japanese inspired.  Adventures of Gumball has a lot of references to the different animes and will cause some viewers to check out those series and influence more people to check out Japanese anime.  It has become so popular; they have even created a special time slot for new series and re-occurring popular series on their Saturday night Toonami segment.  There is such a rich culture that is brought out in the anime, you can watch about Japan\\xe2\\x80\\x99s early history about the samurai and the bloody wars that are associated with them.  Having these types of \\xe2\\x80\\x9chistorical\\xe2\\x80\\x9d anime gives people an insight on how Japan became how it is today, granted it does have some creator interpretation on the story which might not be historically accurate.  But these animes like Rurouni Kenshin gives the viewer a glimpse in the Meiji era and has plenty of action and romance as well.  This has influence other American shows like Samurai Jack and Afro Samurai: Resurrection that had the voice of Samuel L. Jackson.\\n_START_SECTION_\\nAnime conventions\\n_START_PARAGRAPH_\\nPrimarily the function of anime conventions in the United States is to give a place to fans of anime, manga and Japanese culture. There are a range of informational panels offered at these conventions from the basics of Japanese language and culture to cutting edge news about anime releases in Japan and the US. Anime conventions also provide performances and vendors of Japanese goods, manga, anime, figurines and Anime related merchandise.  Most American anime conventions are fan operated, the increase in popularity starting in the \\'90s, sprung forth a long-standing list of annual conventions, such as Anime Expo, AnimeFest, Otakon, and Anime Boston, which continue to today with numbers of attendance reaching over 10,000.\\n_START_SECTION_\\nAnime influence and sales\\n_START_PARAGRAPH_\\nThrough the last two decades the introduction of anime into American mainstream culture has furthered its popularity. Such famous titles as Sailor Moon, Dragon Ball Z, and most importantly Pok\\xc3\\xa9mon have influenced anime\\'s appeal to young Americans. \"Anime already makes up an estimated 60% of all broadcast animation across the world.\" \"ICv2 estimates the size of the North American anime market at $275-300 million\" (in retail dollars).\" To compete with its Japanese competitors, many production companies in the US have adjusted their style to one inspired by anime to hold onto their viewers. An important example that has sparked much controversy in the animation world would be Avatar: The Last Airbender. A popular show on Nickelodeon, the characters have a distinct anime style, even the expressions and mannerism drawn evoke that of anime style. Teen Titans on Cartoon Network is yet another example of anime\\'s influence on cartoons, as well as a popular comic strip turned cartoon called The Boondocks. In recent years there has also been development of Anime developed in the United States in collaboration with Japan, examples would be the Netflix original series Neo Yokio and Castlevania (TV series) based off the video game series._NEWLINE_Unlike American cartoons where they have a lot of standalone episodes where you can jump into the series and enjoy the series, Japanese anime is more of a complex story-line that builds on the previous episodes.  This is why it is so popular in the United States since people can get to know the characters better and become invested in the series and at times dress up like them for conventions or just Cosplay (costume play).  The show incorporates real life in the series where the viewer can see the person attend High School, which is similar to the ones in real life.  They can learn a lot about the Japanese culture which enticed people to want to learn more about the culture and even possible visit Japan.  With the Anime boom and how much revenue is created from this, the United States has jumped on board to create their own shows with anime style animation.  You can see this in the Avatar: The Last Air-bender as well as its sequel, The Legend of Korra.\\n_START_SECTION_\\nManga in the United States\\n_START_PARAGRAPH_\\nAlong with the translating and purchasing of Japanese manga in the United States, this led to the development of artists and writers in the country to develop their own manga. These were called Original English Language manga (OEL manga for short). These comics were mostly a retelling of a piece of American entertainment, such as Disney films, or perhaps a sequel to a movie, TV series, or adaptation of a video game.\\n_START_SECTION_\\nManga influences and sales\\n_START_PARAGRAPH_\\nCalvin Reid of Publishers Weekly estimated that the \"Total U.S. manga sales in 2007 rose about 10%, to more than $220 million, and about 1,468 titles are estimated to have been released last year.\"  With the popularity of manga on the rise graphic novel artists are beginning to adapt their style to that of manga. Manga provides diversity in the graphic novel department not seen in the American comic book industry. In a different trend celebrities are getting their hands into the manga market, rock star Courtney Love has published her own manga called Princess Ai. The production of original English language manga has started. CBR columnists Joe Casey and Matt Fraction describe the increase of manga sales in the United States, \"Manga is the 900-pound bear in the comics shop. Inescapable, unavoidable, and impossible to ignore, the manga explosion is either going to go away\\xe2\\x80\\x94which is bad, as so many mass-market bookstores seem to be bulking up their comics supply based on manga\\'s lead\\xe2\\x80\\x94or manga will continue to grow\\xe2\\x80\\x94also bad, as the direct market scrambles to keep up. The entire industry is being forced, month by month, little by little, into a paradigm shift not seen since the advent of the direct market in the early \\'80s, all thanks to these strange little books from far away.\"\\n_START_SECTION_\\nVideo gaming\\n_START_PARAGRAPH_\\nSince the early 1970\\'s, Japan has been home to some of the most famous and influential video game companies in the world; some of the most well-known include Nintendo, Sega and Namco. The games produced by the companies are extremely well-known across the world, including the famous arcade game Pac-Man and the incredibly popular Super Mario Bros. which has still been ranked as one of the best games of all time, and both have gone on to spawn several sequels and remakes.\\n_START_SECTION_\\nAmerican cosplayers\\n_START_PARAGRAPH_\\nThe term \"cosplay\" corresponds to an abbreviation of the English words costume play, though the term was coined in Japan the practice is not solely Japanese. The use of the term cosplay applies to any costumed role play outside of theaters. Characters are often taken from popular Japanese fiction. Popular sources that fans draw from include anime, manga, video games, comic books, and graphic novels. American cosplayers practice this form of fandom at anime conventions. However, there are a growing number of web pages and photo sites dedicated to the art of cosplaying, such as DeviantArt and Cosplay.com.\\n_START_SECTION_\\nMusic\\n_START_PARAGRAPH_\\nJapanese pop and rock music acts are also increasing in popularity amongst US listeners. Such artists include L\\'Arc-en-Ciel, Miyavi, T.M.Revolution, Hikaru Utada, Asian Kung-Fu Generation, Dir En Grey, Yellow Magic Orchestra, and Susumu Hirasawa. Growing in popularity by the year these performers have toured the United States at least twice playing at small venues in Boston, New York City and Los Angeles each time increasing their fan base. Japanese American artist Hikaru Utada released an English debut album in 2004, her single \"Devil Inside\" topped the Billboard Hot Dance/Club Airplay charts. Dir En Grey, in early 2006 started touring the US. Japanese idols, like Morning Musume, AKB48 and S/mileage are now becoming known in the US thanks to the internet. In 2009, Morning Musume performed at Anime Expo and in 2010 AKB48 played there. Also in 2010, influential metal band X Japan performed their first US tour, selling out most shows. In April 2011, Berryz Kobo played at an anime convention in Washington. Japanese manga art has also influenced American music artists and singers, such as Pharrell Williams whose music video It Girl (Pharrell Williams song) contains a wide array of anime style artwork. Even the electronic musicians Daft Punk have used anime artwork in several of their music videos such as Harder, Better, Faster, Stronger, One More Time (Daft Punk song) and Something About Us (Daft Punk song).'"
      ]
     },
     "execution_count": 7,
     "metadata": {},
     "output_type": "execute_result"
    }
   ],
   "source": [
    "text"
   ]
  },
  {
   "cell_type": "code",
   "execution_count": 6,
   "metadata": {},
   "outputs": [
    {
     "name": "stdout",
     "output_type": "stream",
     "text": [
      "00000\n"
     ]
    }
   ],
   "source": [
    "start = 0\n",
    "finish = 1\n",
    "for i in range(start,finish):\n",
    "    label = str(i).zfill(5)\n",
    "    print(label)\n",
    "    # subprocess.run([\"git\", \"lfs\", \"pull\", \"--include\", f\"en/c4-train.{label}-of-01024.json.gz\"])\n",
    "    jsonfilename = f'/data2/sg/racball/c4/en/c4-train.{label}-of-01024.json.gz'\n",
    "    with gzip.open(jsonfilename, 'r') as fin:\n",
    "        data = [json.loads(line)['text'] for line in fin]\n",
    "\n",
    "    # print(texts.intersection(data))\n",
    "    # subprocess.run([\"rm\", \"-rf\", f\"../en/c4-train.{label}-of-01024.json.gz\"])\n",
    "\n",
    "    if i == 5:\n",
    "        break"
   ]
  },
  {
   "cell_type": "code",
   "execution_count": 11,
   "metadata": {},
   "outputs": [
    {
     "data": {
      "text/plain": [
       "'Beginners BBQ Class Taking Place in Missoula!\\nDo you want to get better at making delicious BBQ? You will have the opportunity, put this on your calendar now. Thursday, September 22nd join World Class BBQ Champion, Tony Balay from Lonestar Smoke Rangers. He will be teaching a beginner level class for everyone who wants to get better with their culinary skills.\\nHe will teach you everything you need to know to compete in a KCBS BBQ competition, including techniques, recipes, timelines, meat selection and trimming, plus smoker and fire information.\\nThe cost to be in the class is $35 per person, and for spectators it is free. Included in the cost will be either a t-shirt or apron and you will be tasting samples of each meat that is prepared.'"
      ]
     },
     "execution_count": 11,
     "metadata": {},
     "output_type": "execute_result"
    }
   ],
   "source": [
    "data[0]"
   ]
  },
  {
   "cell_type": "code",
   "execution_count": 8,
   "metadata": {},
   "outputs": [
    {
     "data": {
      "text/plain": [
       "b'Beginners BBQ Class Taking Place in Missoula!\\nDo you want to get better at making delicious BBQ? You will have the opportunity, put this on your calendar now. Thursday, September 22nd join World Class BBQ Champion, Tony Balay from Lonestar Smoke Rangers. He will be teaching a beginner level class for everyone who wants to get better with their culinary skills.\\nHe will teach you everything you need to know to compete in a KCBS BBQ competition, including techniques, recipes, timelines, meat selection and trimming, plus smoker and fire information.\\nThe cost to be in the class is $35 per person, and for spectators it is free. Included in the cost will be either a t-shirt or apron and you will be tasting samples of each meat that is prepared.'"
      ]
     },
     "execution_count": 8,
     "metadata": {},
     "output_type": "execute_result"
    }
   ],
   "source": [
    "bytes(data[0], 'utf-8')"
   ]
  },
  {
   "cell_type": "code",
   "execution_count": null,
   "metadata": {},
   "outputs": [],
   "source": []
  },
  {
   "cell_type": "code",
   "execution_count": 9,
   "metadata": {},
   "outputs": [
    {
     "name": "stdout",
     "output_type": "stream",
     "text": [
      "0\n",
      "b'' b'\\xff\\xff'\n"
     ]
    },
    {
     "ename": "TypeError",
     "evalue": "can't concat int to bytes",
     "output_type": "error",
     "traceback": [
      "\u001b[0;31m---------------------------------------------------------------------------\u001b[0m",
      "\u001b[0;31mTypeError\u001b[0m                                 Traceback (most recent call last)",
      "Cell \u001b[0;32mIn[9], line 47\u001b[0m\n\u001b[1;32m     44\u001b[0m text \u001b[39m=\u001b[39m p\u001b[39m.\u001b[39mmap(tok,text)\n\u001b[1;32m     46\u001b[0m \u001b[39mfor\u001b[39;00m x \u001b[39min\u001b[39;00m text:\n\u001b[0;32m---> 47\u001b[0m     next_line \u001b[39m=\u001b[39m sep()\u001b[39m+\u001b[39;49mx\n\u001b[1;32m     48\u001b[0m     fout\u001b[39m.\u001b[39mwrite(next_line)\n\u001b[1;32m     49\u001b[0m     sizes\u001b[39m.\u001b[39mappend(sizes[\u001b[39m-\u001b[39m\u001b[39m1\u001b[39m]\u001b[39m+\u001b[39m\u001b[39mlen\u001b[39m(next_line))\n",
      "\u001b[0;31mTypeError\u001b[0m: can't concat int to bytes"
     ]
    }
   ],
   "source": [
    "save_dir = \".\"\n",
    "pre_sep = b\"\\xff\\xff\"\n",
    "post_sep = b\"\"\n",
    "tokenize = False\n",
    "tokenizer = \"gpt2\"\n",
    "\n",
    "UID = 0\n",
    "def sep():\n",
    "    global UID\n",
    "    UID += 1\n",
    "    print(post_sep,pre_sep)\n",
    "    return pre_sep+struct.pack(\"<I\", UID)+post_sep\n",
    "\n",
    "if tokenize:\n",
    "    if args.tokenizer == 'gpt2':\n",
    "        tokenizer = GPT2Tokenizer.from_pretrained('gpt2')\n",
    "    elif args.tokenizer == 't5':\n",
    "        tokenizer = T5Tokenizer.from_pretrained('t5-small')\n",
    "    else:\n",
    "        raise\n",
    "\n",
    "def tok(x):\n",
    "    if tokenize:\n",
    "        out = tokenizer.encode(x.decode(\"utf8\"))\n",
    "        out = np.array(out, dtype=np.uint16).view(np.uint8).tobytes()\n",
    "    else:\n",
    "        out = x\n",
    "    return out\n",
    "\n",
    "\n",
    "if not os.path.exists(save_dir):\n",
    "    os.mkdir(save_dir)\n",
    "\n",
    "fout = open(os.path.join(save_dir, \"c4\"+\".\"+\"train\"), \"wb\")\n",
    "\n",
    "with mp.get_context(\"fork\").Pool(mp.cpu_count()) as p:\n",
    "    i = 0\n",
    "    sizes = [0]\n",
    "    for b in ds:\n",
    "        print(i)\n",
    "    \n",
    "        # text = bytes(b, 'utf-8')\n",
    "        text = b['text'].numpy()\n",
    "        text = p.map(tok,text)\n",
    "        \n",
    "        for x in text:\n",
    "            next_line = sep()+x\n",
    "            fout.write(next_line)\n",
    "            sizes.append(sizes[-1]+len(next_line))\n",
    "        i += 1\n",
    "\n",
    "\n",
    "# open(os.path.join(save_dir,dataset_name+\".\"+split+\".size\"), \"wb\").write(np.array(sizes,dtype=np.uint64).tobytes())\n"
   ]
  },
  {
   "cell_type": "code",
   "execution_count": 50,
   "metadata": {},
   "outputs": [
    {
     "data": {
      "text/plain": [
       "1298200"
      ]
     },
     "execution_count": 50,
     "metadata": {},
     "output_type": "execute_result"
    }
   ],
   "source": [
    "save_dir = \".\"\n",
    "\n",
    "\n",
    "\n",
    "ds = tfds.load(name = \"wiki40b\", data_dir=\"../suffix_array/deduplicate-text-datasets/tensorflow_datasets/\",split='test',batch_size=2**16)\n",
    "# assert isinstance(ds, tf.data.Dataset)\n",
    "# print(ds)\n",
    "\n",
    "# jsonfilename = f'/data2/sg/racball/c4/en/c4-train.00000-of-01024.json.gz'\n",
    "# with gzip.open(jsonfilename, 'r') as fin:\n",
    "#     ds = [json.loads(line)['text'] for line in fin]\n",
    "\n",
    "pre_sep=b\"\\xff\\xff\"\n",
    "post_sep = b\"\"\n",
    "UID = 0\n",
    "def sep():\n",
    "    global UID\n",
    "    # print(struct.pack(\"<I\", UID))\n",
    "    # print(type(struct.pack(\"<I\", UID)))\n",
    "    UID += 1\n",
    "    return pre_sep+struct.pack(\"<I\", UID)+post_sep\n",
    "\n",
    "def tok(x):\n",
    "    if False:\n",
    "        out = tokenizer.encode(x.decode(\"utf8\"))\n",
    "        out = np.array(out, dtype=np.uint16).view(np.uint8).tobytes()\n",
    "    else:\n",
    "        out = x\n",
    "    return out\n",
    "\n",
    "\n",
    "if not os.path.exists(save_dir):\n",
    "    os.mkdir(save_dir)\n",
    "\n",
    "fout = open(os.path.join(save_dir, \"blah\"+\".\"+\"test\"), \"wb\")\n",
    "\n",
    "with mp.get_context(\"fork\").Pool(mp.cpu_count()) as p:\n",
    "    i = 0\n",
    "    sizes = [0]\n",
    "    for b in ds:\n",
    "        # print(i)\n",
    "    \n",
    "        # text = bytes(b, 'utf-8')\n",
    "        text = b['text'].numpy()\n",
    "        text = p.map(tok,text)\n",
    "        for x in text:\n",
    "            next_line = sep()+x\n",
    "            fout.write(next_line)\n",
    "            sizes.append(sizes[-1]+len(next_line))\n",
    "        i += 1\n",
    "\n",
    "open(os.path.join(save_dir,\"blah\"+\".\"+\"size\"), \"wb\").write(np.array(sizes,dtype=np.uint64).tobytes())\n"
   ]
  },
  {
   "cell_type": "code",
   "execution_count": 49,
   "metadata": {},
   "outputs": [
    {
     "data": {
      "text/plain": [
       "'Beginners BBQ Class Taking Place in Missoula!\\nDo you want to get better at making delicious BBQ? You will have the opportunity, put this on your calendar now. Thursday, September 22nd join World Class BBQ Champion, Tony Balay from Lonestar Smoke Rangers. He will be teaching a beginner level class for everyone who wants to get better with their culinary skills.\\nHe will teach you everything you need to know to compete in a KCBS BBQ competition, including techniques, recipes, timelines, meat selection and trimming, plus smoker and fire information.\\nThe cost to be in the class is $35 per person, and for spectators it is free. Included in the cost will be either a t-shirt or apron and you will be tasting samples of each meat that is prepared.'"
      ]
     },
     "execution_count": 49,
     "metadata": {},
     "output_type": "execute_result"
    }
   ],
   "source": [
    "b"
   ]
  },
  {
   "cell_type": "code",
   "execution_count": 45,
   "metadata": {},
   "outputs": [
    {
     "data": {
      "text/plain": [
       "b\"All states require all employers to carry Workers' Compensation insurance and each state has individual laws that must be met.\\nEmployers with one or more employees are subject to the provisions of their state's Disability Benefits Law. This law provides benefits to employees who may be become disabled because of injuries/sickness off the job or that may arise from other conditions such as pregnancy. Payments for these types of benefits are only allocated for the payment of wages...unlike that of workers\\xe2\\x80\\x99 compensation which provides payment for medical costs.\""
      ]
     },
     "execution_count": 45,
     "metadata": {},
     "output_type": "execute_result"
    }
   ],
   "source": [
    "text"
   ]
  },
  {
   "cell_type": "code",
   "execution_count": 10,
   "metadata": {},
   "outputs": [
    {
     "ename": "UnicodeDecodeError",
     "evalue": "'utf-8' codec can't decode byte 0xff in position 0: invalid start byte",
     "output_type": "error",
     "traceback": [
      "\u001b[0;31m---------------------------------------------------------------------------\u001b[0m",
      "\u001b[0;31mUnicodeDecodeError\u001b[0m                        Traceback (most recent call last)",
      "Cell \u001b[0;32mIn[10], line 1\u001b[0m\n\u001b[0;32m----> 1\u001b[0m \u001b[39mb\u001b[39;49m\u001b[39m'\u001b[39;49m\u001b[39m\\xff\u001b[39;49;00m\u001b[39m\\xff\u001b[39;49;00m\u001b[39m\\x01\u001b[39;49;00m\u001b[39m\\x00\u001b[39;49;00m\u001b[39m\\x00\u001b[39;49;00m\u001b[39m\\x00\u001b[39;49;00m\u001b[39m\\n\u001b[39;49;00m\u001b[39m'\u001b[39;49m\u001b[39m.\u001b[39;49mdecode(\u001b[39m'\u001b[39;49m\u001b[39mutf-8\u001b[39;49m\u001b[39m'\u001b[39;49m)\n",
      "\u001b[0;31mUnicodeDecodeError\u001b[0m: 'utf-8' codec can't decode byte 0xff in position 0: invalid start byte"
     ]
    }
   ],
   "source": [
    "b'\\xff\\xff\\x01\\x00\\x00\\x00\\n'.decode('utf-8')"
   ]
  },
  {
   "cell_type": "code",
   "execution_count": 15,
   "metadata": {},
   "outputs": [
    {
     "ename": "UnicodeDecodeError",
     "evalue": "'utf-8' codec can't decode byte 0xcc in position 16: invalid continuation byte",
     "output_type": "error",
     "traceback": [
      "\u001b[0;31m---------------------------------------------------------------------------\u001b[0m",
      "\u001b[0;31mUnicodeDecodeError\u001b[0m                        Traceback (most recent call last)",
      "Cell \u001b[0;32mIn[15], line 3\u001b[0m\n\u001b[1;32m      1\u001b[0m \u001b[39mwith\u001b[39;00m \u001b[39mopen\u001b[39m(os\u001b[39m.\u001b[39mpath\u001b[39m.\u001b[39mjoin(save_dir,\u001b[39m\"\u001b[39m\u001b[39mblah\u001b[39m\u001b[39m\"\u001b[39m\u001b[39m+\u001b[39m\u001b[39m\"\u001b[39m\u001b[39m.\u001b[39m\u001b[39m\"\u001b[39m\u001b[39m+\u001b[39m\u001b[39m\"\u001b[39m\u001b[39m.size\u001b[39m\u001b[39m\"\u001b[39m), \u001b[39m\"\u001b[39m\u001b[39mrb\u001b[39m\u001b[39m\"\u001b[39m) \u001b[39mas\u001b[39;00m f:\n\u001b[1;32m      2\u001b[0m     \u001b[39mfor\u001b[39;00m line \u001b[39min\u001b[39;00m f:\n\u001b[0;32m----> 3\u001b[0m         \u001b[39mprint\u001b[39m(line\u001b[39m.\u001b[39;49mdecode(\u001b[39m'\u001b[39;49m\u001b[39mutf-8\u001b[39;49m\u001b[39m'\u001b[39;49m))\n\u001b[1;32m      4\u001b[0m         \u001b[39mbreak\u001b[39;00m\n",
      "\u001b[0;31mUnicodeDecodeError\u001b[0m: 'utf-8' codec can't decode byte 0xcc in position 16: invalid continuation byte"
     ]
    }
   ],
   "source": [
    "with open(os.path.join(save_dir,\"blah\"+\".\"+\".size\"), \"rb\") as f:\n",
    "    for line in f:\n",
    "        print(line.decode('utf-8'))\n",
    "        break"
   ]
  }
 ],
 "metadata": {
  "kernelspec": {
   "display_name": "suffix_array",
   "language": "python",
   "name": "python3"
  },
  "language_info": {
   "codemirror_mode": {
    "name": "ipython",
    "version": 3
   },
   "file_extension": ".py",
   "mimetype": "text/x-python",
   "name": "python",
   "nbconvert_exporter": "python",
   "pygments_lexer": "ipython3",
   "version": "3.10.9"
  },
  "orig_nbformat": 4
 },
 "nbformat": 4,
 "nbformat_minor": 2
}
